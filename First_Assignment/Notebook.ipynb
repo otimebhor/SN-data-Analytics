{
 "cells": [
  {
   "source": [
    "# TASK 1 (Creating a GitHub Respository(SN data Analytics))\n",
    "1. I logged in to my GitHub account\n",
    "2. I clicked on the \"new\" button on the left side of the github home page which redirected me to a form.\n",
    "3. I filed in the name of the repository to be created \"SN data Analytics\"\n",
    "4. I gave a description of what the repossitory was about.\n",
    "5. I clicked on the \"public\" option to make the repository public.\n",
    "6. I checked the \"Add a README.md\" box, then .gitignore box then I chose a template(Python) for the respository.\n",
    "7. I clicked on the \"Create Repository\" button and the repository was created.\n"
   ],
   "cell_type": "markdown",
   "metadata": {}
  },
  {
   "source": [
    "# TASK 2(Creating a Folder Inside the Repository)\n",
    "1. After creating the repository on GitHub, I created a copy of the repository on my local computer by cloning the repository using Git Bash.\n",
    "2. I created a folder where my repository will be kept on my local computer.\n",
    "3. Then I cloned the repository on Git Bash using the git clone command. I.e. git clone \"my repository url\".\n",
    "3. When my repository was cloned into the folder, I changed directory to the repository folder using the command \"cd SN-data-Analytics\".\n",
    "4. I used the command \"code .\" to open the IDE(VS code) on my local computer.\n",
    "5. In VS Code, I created a new Folder named \"First Assignment\".\n",
    "6. After creating the folder, I tried to push the folder to github but i wass getting error messages. \n",
    "7. I discovered that an empty folder cannot be pushed to github so I had a create an empty file in the folder.\n",
    "8. After creating the file, I pushed the folder to github using git bash. On git bash, I changed directory to the \"First Asignment\" folder then I used the following commands to push the folder to github: \n",
    "git add .\n",
    "git commit -m \"create empty folder\"\n",
    "git push origin main\n",
    "9. After doing this, I went back to github and refreshed the page. The folder was pushed to github.\n",
    "\n",
    "\n",
    "\n",
    "\n"
   ],
   "cell_type": "markdown",
   "metadata": {}
  },
  {
   "source": [
    "# TASK 3 (Pushing an Empty Notebook to the Repository)\n",
    "1. I opened Jupyter Notebook and created a new Notebook.\n",
    "2. I copied the empty Notebook to the \"First Assignment\" folder in my cloned repository.\n",
    "3. I opened git bash then changed directory to the \"First Assignment\" folder.\n",
    "4. I used the following commands to push the empty notebook:\n",
    "git add .\n",
    "git commit -m \"create an empty notebook\"\n",
    "git push origin main\n",
    "5. After doing this, I went to github and refreshed the page. The empty notebook was pushed to github.\n"
   ],
   "cell_type": "markdown",
   "metadata": {}
  }
 ],
 "metadata": {
  "kernelspec": {
   "display_name": "Python 3",
   "language": "python",
   "name": "python3"
  },
  "language_info": {
   "codemirror_mode": {
    "name": "ipython",
    "version": 3
   },
   "file_extension": ".py",
   "mimetype": "text/x-python",
   "name": "python",
   "nbconvert_exporter": "python",
   "pygments_lexer": "ipython3",
   "version": "3.8.3"
  }
 },
 "nbformat": 4,
 "nbformat_minor": 4
}