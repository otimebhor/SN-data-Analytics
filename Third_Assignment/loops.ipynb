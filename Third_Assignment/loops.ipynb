{
 "cells": [
  {
   "cell_type": "code",
   "execution_count": 4,
   "metadata": {},
   "outputs": [
    {
     "name": "stdout",
     "output_type": "stream",
     "text": [
      "1\n",
      "2\n",
      "3\n",
      "4\n",
      "5\n",
      "6\n",
      "7\n",
      "8\n",
      "9\n",
      "10\n",
      "11\n",
      "12\n",
      "13\n",
      "14\n",
      "15\n",
      "16\n",
      "17\n",
      "18\n",
      "19\n",
      "20\n"
     ]
    }
   ],
   "source": [
    "#1.Write a loop statement that print out numbers between 1 and 20\n",
    "#while loop\n",
    "i = 0\n",
    "while i < 20:\n",
    "    i += 1\n",
    "    print(i)\n",
    "    \n",
    "#for loop\n",
    "for i in range(1,21):\n",
    "    print(i)\n",
    "          "
   ]
  },
  {
   "cell_type": "code",
   "execution_count": 11,
   "metadata": {},
   "outputs": [
    {
     "name": "stdout",
     "output_type": "stream",
     "text": [
      "30\n",
      "31\n",
      "32\n",
      "32\n",
      "33\n",
      "34\n",
      "34\n",
      "35\n",
      "36\n",
      "36\n",
      "37\n",
      "38\n",
      "38\n",
      "39\n",
      "40\n",
      "40\n",
      "41\n",
      "42\n",
      "42\n",
      "43\n",
      "44\n",
      "44\n",
      "45\n",
      "46\n",
      "46\n",
      "47\n",
      "48\n",
      "48\n",
      "49\n",
      "50\n",
      "50\n",
      "51\n",
      "52\n",
      "52\n",
      "53\n",
      "54\n",
      "54\n",
      "55\n",
      "56\n",
      "56\n",
      "57\n",
      "58\n",
      "58\n",
      "59\n",
      "60\n",
      "60\n",
      "61\n",
      "62\n",
      "62\n",
      "63\n",
      "64\n",
      "64\n",
      "65\n",
      "66\n",
      "66\n",
      "67\n",
      "68\n",
      "68\n",
      "69\n",
      "70\n"
     ]
    }
   ],
   "source": [
    "#2. Write a simple  loop that print out even numbers between 30 and 70\n",
    "#while loop\n",
    "i = 30\n",
    "while i < 70:\n",
    "    i +=1\n",
    "    if i % 2 == 0:\n",
    "        print(i)\n",
    "\n",
    "#for loop\n",
    "for i in range(30,71,2):\n",
    "    print(i)\n",
    "    "
   ]
  },
  {
   "cell_type": "code",
   "execution_count": 16,
   "metadata": {},
   "outputs": [
    {
     "name": "stdout",
     "output_type": "stream",
     "text": [
      "5\n",
      "10\n",
      "15\n",
      "20\n",
      "25\n",
      "30\n",
      "35\n",
      "40\n",
      "45\n",
      "50\n",
      "55\n",
      "60\n"
     ]
    }
   ],
   "source": [
    "#3. Write a  loop statement that print multiplication table 5\n",
    "for i in range(1,13):\n",
    "    i = i * 5\n",
    "    print(i)"
   ]
  },
  {
   "cell_type": "code",
   "execution_count": 24,
   "metadata": {},
   "outputs": [
    {
     "name": "stdout",
     "output_type": "stream",
     "text": [
      "Enter a number 5\n"
     ]
    },
    {
     "data": {
      "text/plain": [
       "120"
      ]
     },
     "execution_count": 24,
     "metadata": {},
     "output_type": "execute_result"
    }
   ],
   "source": [
    "#4. Write a program that accept number input from user and return the factoria of the number.\n",
    "def factorial(n):\n",
    "    result = 1\n",
    "    for i in range(1, n + 1):\n",
    "        result *= i\n",
    "    return result\n",
    "\n",
    "num = int(input('Enter a number '))\n",
    "factorial(num)\n",
    "    "
   ]
  },
  {
   "cell_type": "code",
   "execution_count": null,
   "metadata": {},
   "outputs": [],
   "source": []
  }
 ],
 "metadata": {
  "kernelspec": {
   "display_name": "Python 3",
   "language": "python",
   "name": "python3"
  },
  "language_info": {
   "codemirror_mode": {
    "name": "ipython",
    "version": 3
   },
   "file_extension": ".py",
   "mimetype": "text/x-python",
   "name": "python",
   "nbconvert_exporter": "python",
   "pygments_lexer": "ipython3",
   "version": "3.8.3"
  }
 },
 "nbformat": 4,
 "nbformat_minor": 4
}
