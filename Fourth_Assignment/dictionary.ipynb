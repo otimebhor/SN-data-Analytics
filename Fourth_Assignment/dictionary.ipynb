{
 "cells": [
  {
   "cell_type": "code",
   "execution_count": 5,
   "metadata": {},
   "outputs": [
    {
     "data": {
      "text/plain": [
       "22"
      ]
     },
     "execution_count": 5,
     "metadata": {},
     "output_type": "execute_result"
    }
   ],
   "source": [
    "#ASSIGNMENT 1\n",
    "dict = {\"Chris\" : 33, \"Julie\" : 18, \"Paul\" : 22}\n",
    "dict.fromkeys(dict) #Returns a dictionary with the specified keys and value\n",
    "dict.get(\"Julie\") #Returns the value of the specified key\n",
    "dict.items() #Returns a list containing a tuple for each key-value pair\n",
    "dict.keys() #Returns a list containing the dictionary's keys\n",
    "dict.pop(\"Chris\") #Removes the elememt with the specified key\n",
    "dict.popitem() #Removes the last inserted key-value pair\n",
    "dict.setdefault(\"Paul\", 27) #Returns the value of the specified key. If kay doesn't exist: insert the key, with the specified value\n",
    "dict.update({\"John\": 25}) #Updates the dictionary with the specified key-value pairs \n",
    "dict.values() #Returns a list of all the values in the dictionary\n"
   ]
  }
 ],
 "metadata": {
  "kernelspec": {
   "display_name": "Python 3",
   "language": "python",
   "name": "python3"
  },
  "language_info": {
   "codemirror_mode": {
    "name": "ipython",
    "version": 3
   },
   "file_extension": ".py",
   "mimetype": "text/x-python",
   "name": "python",
   "nbconvert_exporter": "python",
   "pygments_lexer": "ipython3",
   "version": "3.8.3"
  }
 },
 "nbformat": 4,
 "nbformat_minor": 4
}
